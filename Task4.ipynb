{
 "cells": [
  {
   "cell_type": "code",
   "execution_count": 274,
   "id": "233cb6f0",
   "metadata": {},
   "outputs": [],
   "source": [
    "#task 4.1\n",
    "import cv2\n",
    "import numpy"
   ]
  },
  {
   "cell_type": "code",
   "execution_count": 275,
   "id": "9a4722d3",
   "metadata": {},
   "outputs": [],
   "source": [
    "cn=numpy.zeros((400,400,3))"
   ]
  },
  {
   "cell_type": "code",
   "execution_count": 276,
   "id": "046fb41b",
   "metadata": {},
   "outputs": [
    {
     "data": {
      "text/plain": [
       "(400, 400, 3)"
      ]
     },
     "execution_count": 276,
     "metadata": {},
     "output_type": "execute_result"
    }
   ],
   "source": [
    "cn.shape"
   ]
  },
  {
   "cell_type": "code",
   "execution_count": 277,
   "id": "e48c2c32",
   "metadata": {},
   "outputs": [],
   "source": [
    "x=0\n",
    "y=50\n",
    "while x<=320 and y<=400:\n",
    "    i=0\n",
    "    j=50\n",
    "    while i<=320 and j<=400:\n",
    "        cn[i:j,x:y]=[255,255,255]\n",
    "        i=i+100\n",
    "        j=j+100\n",
    "    x=x+100\n",
    "    y=y+100"
   ]
  },
  {
   "cell_type": "code",
   "execution_count": 278,
   "id": "3880684a",
   "metadata": {},
   "outputs": [],
   "source": [
    "x=50\n",
    "y=100\n",
    "while x<=350 and y<=400:\n",
    "    i=50\n",
    "    j=100\n",
    "    while i<=350 and j<=400:\n",
    "        cn[i:j,x:y]=[255,255,255]\n",
    "        i=i+100\n",
    "        j=j+100\n",
    "    x=x+100\n",
    "    y=y+100"
   ]
  },
  {
   "cell_type": "code",
   "execution_count": 279,
   "id": "068c8dc7",
   "metadata": {},
   "outputs": [],
   "source": [
    "cv2.imshow('chess board',cn)\n",
    "cv2.waitKey()\n",
    "cv2.destroyAllWindows()\n"
   ]
  },
  {
   "cell_type": "code",
   "execution_count": 280,
   "id": "3903d3a9",
   "metadata": {},
   "outputs": [],
   "source": [
    "#Task 4.2\n",
    "#task concat image\n",
    "p1= cv2.imread('g1.jpg')"
   ]
  },
  {
   "cell_type": "code",
   "execution_count": 281,
   "id": "5eca9436",
   "metadata": {},
   "outputs": [],
   "source": [
    "p2= cv2.imread('s1.jpg')"
   ]
  },
  {
   "cell_type": "code",
   "execution_count": 282,
   "id": "4096712c",
   "metadata": {},
   "outputs": [
    {
     "data": {
      "text/plain": [
       "(300, 252, 3)"
      ]
     },
     "execution_count": 282,
     "metadata": {},
     "output_type": "execute_result"
    }
   ],
   "source": [
    "p1.shape"
   ]
  },
  {
   "cell_type": "code",
   "execution_count": 283,
   "id": "bf43e7c6",
   "metadata": {},
   "outputs": [
    {
     "data": {
      "text/plain": [
       "(300, 252, 3)"
      ]
     },
     "execution_count": 283,
     "metadata": {},
     "output_type": "execute_result"
    }
   ],
   "source": [
    "p2.shape"
   ]
  },
  {
   "cell_type": "code",
   "execution_count": 284,
   "id": "938dc40e",
   "metadata": {},
   "outputs": [],
   "source": [
    "cphoto=numpy.hstack((p1,p2))"
   ]
  },
  {
   "cell_type": "code",
   "execution_count": 285,
   "id": "46fb7a58",
   "metadata": {},
   "outputs": [],
   "source": [
    "cv2.imshow('Harry potter',cphoto)\n",
    "cv2.waitKey()\n",
    "cv2.destroyAllWindows()"
   ]
  },
  {
   "cell_type": "code",
   "execution_count": 286,
   "id": "534f2a52",
   "metadata": {},
   "outputs": [],
   "source": [
    "cphoto=numpy.vstack((p1,p2))"
   ]
  },
  {
   "cell_type": "code",
   "execution_count": 287,
   "id": "58a1f086",
   "metadata": {},
   "outputs": [],
   "source": [
    "cv2.imshow('Harry potter',cphoto)\n",
    "cv2.waitKey()\n",
    "cv2.destroyAllWindows()"
   ]
  },
  {
   "cell_type": "code",
   "execution_count": 295,
   "id": "c458bdca",
   "metadata": {},
   "outputs": [],
   "source": [
    "#Task 4.3\n",
    "#swapping\n",
    "puppy1= cv2.imread('puppy1.jpg')"
   ]
  },
  {
   "cell_type": "code",
   "execution_count": 296,
   "id": "587d457f",
   "metadata": {},
   "outputs": [],
   "source": [
    "puppy2= cv2.imread('puppy2.jpg')"
   ]
  },
  {
   "cell_type": "code",
   "execution_count": 297,
   "id": "04e7c2b8",
   "metadata": {},
   "outputs": [],
   "source": [
    "cv2.imshow('p1', puppy1)\n",
    "cv2.waitKey()\n",
    "cv2.destroyAllWindows()"
   ]
  },
  {
   "cell_type": "code",
   "execution_count": 298,
   "id": "6c79f5b1",
   "metadata": {},
   "outputs": [],
   "source": [
    "cv2.imshow('p2', puppy2)\n",
    "cv2.waitKey()\n",
    "cv2.destroyAllWindows()"
   ]
  },
  {
   "cell_type": "code",
   "execution_count": 292,
   "id": "518a3ed9",
   "metadata": {},
   "outputs": [],
   "source": [
    "p1= puppy1[150:500,220:520]\n"
   ]
  },
  {
   "cell_type": "code",
   "execution_count": 299,
   "id": "3ce85389",
   "metadata": {},
   "outputs": [],
   "source": [
    "p2= puppy2[0:350,250:550]"
   ]
  },
  {
   "cell_type": "code",
   "execution_count": 293,
   "id": "600165c4",
   "metadata": {},
   "outputs": [],
   "source": [
    "puppy2[0:350,250:550]=p1"
   ]
  },
  {
   "cell_type": "code",
   "execution_count": 300,
   "id": "7184bd70",
   "metadata": {},
   "outputs": [],
   "source": [
    "puppy1[150:500,220:520]=p2"
   ]
  },
  {
   "cell_type": "code",
   "execution_count": 294,
   "id": "79670020",
   "metadata": {},
   "outputs": [],
   "source": [
    "cv2.imshow('swap1', puppy2)\n",
    "cv2.waitKey()\n",
    "cv2.destroyAllWindows()"
   ]
  },
  {
   "cell_type": "code",
   "execution_count": 301,
   "id": "b2217c8c",
   "metadata": {},
   "outputs": [],
   "source": [
    "cv2.imshow('swap2', puppy1)\n",
    "cv2.waitKey()\n",
    "cv2.destroyAllWindows()"
   ]
  },
  {
   "cell_type": "code",
   "execution_count": null,
   "id": "a0369062",
   "metadata": {},
   "outputs": [],
   "source": []
  }
 ],
 "metadata": {
  "kernelspec": {
   "display_name": "Python 3",
   "language": "python",
   "name": "python3"
  },
  "language_info": {
   "codemirror_mode": {
    "name": "ipython",
    "version": 3
   },
   "file_extension": ".py",
   "mimetype": "text/x-python",
   "name": "python",
   "nbconvert_exporter": "python",
   "pygments_lexer": "ipython3",
   "version": "3.8.8"
  }
 },
 "nbformat": 4,
 "nbformat_minor": 5
}
